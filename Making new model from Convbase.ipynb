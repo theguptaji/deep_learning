{
 "cells": [
  {
   "cell_type": "code",
   "execution_count": 1,
   "metadata": {},
   "outputs": [
    {
     "name": "stderr",
     "output_type": "stream",
     "text": [
      "/usr/lib/python2.7/dist-packages/h5py/__init__.py:36: FutureWarning: Conversion of the second argument of issubdtype from `float` to `np.floating` is deprecated. In future, it will be treated as `np.float64 == np.dtype(float).type`.\n",
      "  from ._conv import register_converters as _register_converters\n",
      "Using TensorFlow backend.\n"
     ]
    }
   ],
   "source": [
    "from keras.applications import VGG16\n",
    "\n",
    "conv_base = VGG16(weights='imagenet', include_top=False, input_shape=(150,150,3))"
   ]
  },
  {
   "cell_type": "code",
   "execution_count": 4,
   "metadata": {},
   "outputs": [],
   "source": [
    "from keras import models\n",
    "from keras import layers\n",
    "\n",
    "model = models.Sequential()\n",
    "model.add(conv_base)\n",
    "model.add(layers.Flatten())\n",
    "model.add(layers.Dense(256, activation='relu'))\n",
    "model.add(layers.Dense(1, activation='sigmoid'))"
   ]
  },
  {
   "cell_type": "code",
   "execution_count": 5,
   "metadata": {},
   "outputs": [
    {
     "name": "stdout",
     "output_type": "stream",
     "text": [
      "_________________________________________________________________\n",
      "Layer (type)                 Output Shape              Param #   \n",
      "=================================================================\n",
      "vgg16 (Model)                (None, 512, 4, 4)         14714688  \n",
      "_________________________________________________________________\n",
      "flatten_1 (Flatten)          (None, 8192)              0         \n",
      "_________________________________________________________________\n",
      "dense_1 (Dense)              (None, 256)               2097408   \n",
      "_________________________________________________________________\n",
      "dense_2 (Dense)              (None, 1)                 257       \n",
      "=================================================================\n",
      "Total params: 16,812,353\n",
      "Trainable params: 16,812,353\n",
      "Non-trainable params: 0\n",
      "_________________________________________________________________\n"
     ]
    }
   ],
   "source": [
    "model.summary()"
   ]
  },
  {
   "cell_type": "code",
   "execution_count": 6,
   "metadata": {},
   "outputs": [
    {
     "data": {
      "text/plain": [
       "30"
      ]
     },
     "execution_count": 6,
     "metadata": {},
     "output_type": "execute_result"
    }
   ],
   "source": [
    "len(model.trainable_weights)"
   ]
  },
  {
   "cell_type": "code",
   "execution_count": 7,
   "metadata": {},
   "outputs": [],
   "source": [
    "conv_base.trainable = False"
   ]
  },
  {
   "cell_type": "code",
   "execution_count": 8,
   "metadata": {},
   "outputs": [
    {
     "data": {
      "text/plain": [
       "4"
      ]
     },
     "execution_count": 8,
     "metadata": {},
     "output_type": "execute_result"
    }
   ],
   "source": [
    "len(model.trainable_weights)"
   ]
  },
  {
   "cell_type": "code",
   "execution_count": 9,
   "metadata": {},
   "outputs": [
    {
     "name": "stdout",
     "output_type": "stream",
     "text": [
      "Found 2000 images belonging to 2 classes.\n",
      "Found 1000 images belonging to 2 classes.\n"
     ]
    },
    {
     "name": "stderr",
     "output_type": "stream",
     "text": [
      "WARNING (theano.tensor.blas): We did not find a dynamic library in the library_dir of the library we use for blas. If you use ATLAS, make sure to compile it with dynamics library.\n"
     ]
    },
    {
     "name": "stdout",
     "output_type": "stream",
     "text": [
      "Epoch 1/30\n"
     ]
    },
    {
     "ename": "KeyboardInterrupt",
     "evalue": "",
     "output_type": "error",
     "traceback": [
      "\u001b[0;31m---------------------------------------------------------------------------\u001b[0m",
      "\u001b[0;31mKeyboardInterrupt\u001b[0m                         Traceback (most recent call last)",
      "\u001b[0;32m<ipython-input-9-f056c399d6d7>\u001b[0m in \u001b[0;36m<module>\u001b[0;34m()\u001b[0m\n\u001b[1;32m     39\u001b[0m     \u001b[0mvalidation_data\u001b[0m\u001b[0;34m=\u001b[0m\u001b[0mvalidation_generator\u001b[0m\u001b[0;34m,\u001b[0m\u001b[0;34m\u001b[0m\u001b[0m\n\u001b[1;32m     40\u001b[0m     \u001b[0mvalidation_steps\u001b[0m\u001b[0;34m=\u001b[0m\u001b[0;36m50\u001b[0m\u001b[0;34m,\u001b[0m\u001b[0;34m\u001b[0m\u001b[0m\n\u001b[0;32m---> 41\u001b[0;31m     verbose=2)\n\u001b[0m",
      "\u001b[0;32m/usr/local/lib/python2.7/dist-packages/keras/legacy/interfaces.pyc\u001b[0m in \u001b[0;36mwrapper\u001b[0;34m(*args, **kwargs)\u001b[0m\n\u001b[1;32m     89\u001b[0m                 warnings.warn('Update your `' + object_name +\n\u001b[1;32m     90\u001b[0m                               '` call to the Keras 2 API: ' + signature, stacklevel=2)\n\u001b[0;32m---> 91\u001b[0;31m             \u001b[0;32mreturn\u001b[0m \u001b[0mfunc\u001b[0m\u001b[0;34m(\u001b[0m\u001b[0;34m*\u001b[0m\u001b[0margs\u001b[0m\u001b[0;34m,\u001b[0m \u001b[0;34m**\u001b[0m\u001b[0mkwargs\u001b[0m\u001b[0;34m)\u001b[0m\u001b[0;34m\u001b[0m\u001b[0m\n\u001b[0m\u001b[1;32m     92\u001b[0m         \u001b[0mwrapper\u001b[0m\u001b[0;34m.\u001b[0m\u001b[0m_original_function\u001b[0m \u001b[0;34m=\u001b[0m \u001b[0mfunc\u001b[0m\u001b[0;34m\u001b[0m\u001b[0m\n\u001b[1;32m     93\u001b[0m         \u001b[0;32mreturn\u001b[0m \u001b[0mwrapper\u001b[0m\u001b[0;34m\u001b[0m\u001b[0m\n",
      "\u001b[0;32m/usr/local/lib/python2.7/dist-packages/keras/engine/training.pyc\u001b[0m in \u001b[0;36mfit_generator\u001b[0;34m(self, generator, steps_per_epoch, epochs, verbose, callbacks, validation_data, validation_steps, class_weight, max_queue_size, workers, use_multiprocessing, shuffle, initial_epoch)\u001b[0m\n\u001b[1;32m   1413\u001b[0m             \u001b[0muse_multiprocessing\u001b[0m\u001b[0;34m=\u001b[0m\u001b[0muse_multiprocessing\u001b[0m\u001b[0;34m,\u001b[0m\u001b[0;34m\u001b[0m\u001b[0m\n\u001b[1;32m   1414\u001b[0m             \u001b[0mshuffle\u001b[0m\u001b[0;34m=\u001b[0m\u001b[0mshuffle\u001b[0m\u001b[0;34m,\u001b[0m\u001b[0;34m\u001b[0m\u001b[0m\n\u001b[0;32m-> 1415\u001b[0;31m             initial_epoch=initial_epoch)\n\u001b[0m\u001b[1;32m   1416\u001b[0m \u001b[0;34m\u001b[0m\u001b[0m\n\u001b[1;32m   1417\u001b[0m     \u001b[0;34m@\u001b[0m\u001b[0minterfaces\u001b[0m\u001b[0;34m.\u001b[0m\u001b[0mlegacy_generator_methods_support\u001b[0m\u001b[0;34m\u001b[0m\u001b[0m\n",
      "\u001b[0;32m/usr/local/lib/python2.7/dist-packages/keras/engine/training_generator.pyc\u001b[0m in \u001b[0;36mfit_generator\u001b[0;34m(model, generator, steps_per_epoch, epochs, verbose, callbacks, validation_data, validation_steps, class_weight, max_queue_size, workers, use_multiprocessing, shuffle, initial_epoch)\u001b[0m\n\u001b[1;32m    211\u001b[0m                 outs = model.train_on_batch(x, y,\n\u001b[1;32m    212\u001b[0m                                             \u001b[0msample_weight\u001b[0m\u001b[0;34m=\u001b[0m\u001b[0msample_weight\u001b[0m\u001b[0;34m,\u001b[0m\u001b[0;34m\u001b[0m\u001b[0m\n\u001b[0;32m--> 213\u001b[0;31m                                             class_weight=class_weight)\n\u001b[0m\u001b[1;32m    214\u001b[0m \u001b[0;34m\u001b[0m\u001b[0m\n\u001b[1;32m    215\u001b[0m                 \u001b[0mouts\u001b[0m \u001b[0;34m=\u001b[0m \u001b[0mto_list\u001b[0m\u001b[0;34m(\u001b[0m\u001b[0mouts\u001b[0m\u001b[0;34m)\u001b[0m\u001b[0;34m\u001b[0m\u001b[0m\n",
      "\u001b[0;32m/usr/local/lib/python2.7/dist-packages/keras/engine/training.pyc\u001b[0m in \u001b[0;36mtrain_on_batch\u001b[0;34m(self, x, y, sample_weight, class_weight)\u001b[0m\n\u001b[1;32m   1213\u001b[0m             \u001b[0mins\u001b[0m \u001b[0;34m=\u001b[0m \u001b[0mx\u001b[0m \u001b[0;34m+\u001b[0m \u001b[0my\u001b[0m \u001b[0;34m+\u001b[0m \u001b[0msample_weights\u001b[0m\u001b[0;34m\u001b[0m\u001b[0m\n\u001b[1;32m   1214\u001b[0m         \u001b[0mself\u001b[0m\u001b[0;34m.\u001b[0m\u001b[0m_make_train_function\u001b[0m\u001b[0;34m(\u001b[0m\u001b[0;34m)\u001b[0m\u001b[0;34m\u001b[0m\u001b[0m\n\u001b[0;32m-> 1215\u001b[0;31m         \u001b[0moutputs\u001b[0m \u001b[0;34m=\u001b[0m \u001b[0mself\u001b[0m\u001b[0;34m.\u001b[0m\u001b[0mtrain_function\u001b[0m\u001b[0;34m(\u001b[0m\u001b[0mins\u001b[0m\u001b[0;34m)\u001b[0m\u001b[0;34m\u001b[0m\u001b[0m\n\u001b[0m\u001b[1;32m   1216\u001b[0m         \u001b[0;32mreturn\u001b[0m \u001b[0munpack_singleton\u001b[0m\u001b[0;34m(\u001b[0m\u001b[0moutputs\u001b[0m\u001b[0;34m)\u001b[0m\u001b[0;34m\u001b[0m\u001b[0m\n\u001b[1;32m   1217\u001b[0m \u001b[0;34m\u001b[0m\u001b[0m\n",
      "\u001b[0;32m/usr/local/lib/python2.7/dist-packages/keras/backend/theano_backend.pyc\u001b[0m in \u001b[0;36m__call__\u001b[0;34m(self, inputs)\u001b[0m\n\u001b[1;32m   1271\u001b[0m     \u001b[0;32mdef\u001b[0m \u001b[0m__call__\u001b[0m\u001b[0;34m(\u001b[0m\u001b[0mself\u001b[0m\u001b[0;34m,\u001b[0m \u001b[0minputs\u001b[0m\u001b[0;34m)\u001b[0m\u001b[0;34m:\u001b[0m\u001b[0;34m\u001b[0m\u001b[0m\n\u001b[1;32m   1272\u001b[0m         \u001b[0;32massert\u001b[0m \u001b[0misinstance\u001b[0m\u001b[0;34m(\u001b[0m\u001b[0minputs\u001b[0m\u001b[0;34m,\u001b[0m \u001b[0;34m(\u001b[0m\u001b[0mlist\u001b[0m\u001b[0;34m,\u001b[0m \u001b[0mtuple\u001b[0m\u001b[0;34m)\u001b[0m\u001b[0;34m)\u001b[0m\u001b[0;34m\u001b[0m\u001b[0m\n\u001b[0;32m-> 1273\u001b[0;31m         \u001b[0;32mreturn\u001b[0m \u001b[0mself\u001b[0m\u001b[0;34m.\u001b[0m\u001b[0mfunction\u001b[0m\u001b[0;34m(\u001b[0m\u001b[0;34m*\u001b[0m\u001b[0minputs\u001b[0m\u001b[0;34m)\u001b[0m\u001b[0;34m\u001b[0m\u001b[0m\n\u001b[0m\u001b[1;32m   1274\u001b[0m \u001b[0;34m\u001b[0m\u001b[0m\n\u001b[1;32m   1275\u001b[0m \u001b[0;34m\u001b[0m\u001b[0m\n",
      "\u001b[0;32m/usr/local/lib/python2.7/dist-packages/theano/compile/function_module.pyc\u001b[0m in \u001b[0;36m__call__\u001b[0;34m(self, *args, **kwargs)\u001b[0m\n\u001b[1;32m    901\u001b[0m         \u001b[0;32mtry\u001b[0m\u001b[0;34m:\u001b[0m\u001b[0;34m\u001b[0m\u001b[0m\n\u001b[1;32m    902\u001b[0m             \u001b[0moutputs\u001b[0m \u001b[0;34m=\u001b[0m\u001b[0;31m\\\u001b[0m\u001b[0;34m\u001b[0m\u001b[0m\n\u001b[0;32m--> 903\u001b[0;31m                 \u001b[0mself\u001b[0m\u001b[0;34m.\u001b[0m\u001b[0mfn\u001b[0m\u001b[0;34m(\u001b[0m\u001b[0;34m)\u001b[0m \u001b[0;32mif\u001b[0m \u001b[0moutput_subset\u001b[0m \u001b[0;32mis\u001b[0m \u001b[0mNone\u001b[0m \u001b[0;32melse\u001b[0m\u001b[0;31m\\\u001b[0m\u001b[0;34m\u001b[0m\u001b[0m\n\u001b[0m\u001b[1;32m    904\u001b[0m                 \u001b[0mself\u001b[0m\u001b[0;34m.\u001b[0m\u001b[0mfn\u001b[0m\u001b[0;34m(\u001b[0m\u001b[0moutput_subset\u001b[0m\u001b[0;34m=\u001b[0m\u001b[0moutput_subset\u001b[0m\u001b[0;34m)\u001b[0m\u001b[0;34m\u001b[0m\u001b[0m\n\u001b[1;32m    905\u001b[0m         \u001b[0;32mexcept\u001b[0m \u001b[0mException\u001b[0m\u001b[0;34m:\u001b[0m\u001b[0;34m\u001b[0m\u001b[0m\n",
      "\u001b[0;31mKeyboardInterrupt\u001b[0m: "
     ]
    }
   ],
   "source": [
    "from keras.preprocessing.image import ImageDataGenerator\n",
    "from keras import optimizers\n",
    "\n",
    "train_dir = '/home/geist/Desktop/projects/kaggle/cats_dogs/cats_and_dogs_small/train'\n",
    "validation_dir ='/home/geist/Desktop/projects/kaggle/cats_dogs/cats_and_dogs_small/validation'\n",
    "\n",
    "train_datagen = ImageDataGenerator(\n",
    "    rescale=1./255,\n",
    "    rotation_range=40,\n",
    "    width_shift_range=0.2,\n",
    "    height_shift_range=0.2,\n",
    "    shear_range=0.2,\n",
    "    zoom_range=0.2,\n",
    "    horizontal_flip=True,\n",
    "    fill_mode='nearest')\n",
    "\n",
    "test_datagen = ImageDataGenerator(rescale=1./255)\n",
    "\n",
    "train_generator = train_datagen.flow_from_directory(\n",
    "    train_dir,\n",
    "    target_size=(150,150),\n",
    "    batch_size=20,\n",
    "    class_mode='binary')\n",
    "\n",
    "validation_generator = test_datagen.flow_from_directory(\n",
    "    validation_dir,\n",
    "    target_size=(150,150),\n",
    "    batch_size=20,\n",
    "    class_mode='binary')\n",
    "\n",
    "model.compile(loss='binary_crossentropy',\n",
    "             optimizer= optimizers.RMSprop(lr=2e-5),\n",
    "             metrics=['acc'])\n",
    "\n",
    "history = model.fit_generator(\n",
    "    train_generator,\n",
    "    steps_per_epoch=100,\n",
    "    epochs=30,\n",
    "    validation_data=validation_generator,\n",
    "    validation_steps=50,\n",
    "    verbose=2)"
   ]
  },
  {
   "cell_type": "code",
   "execution_count": 32,
   "metadata": {},
   "outputs": [
    {
     "name": "stdout",
     "output_type": "stream",
     "text": [
      "_________________________________________________________________\n",
      "Layer (type)                 Output Shape              Param #   \n",
      "=================================================================\n",
      "input_4 (InputLayer)         (None, 150, 150, 3)       0         \n",
      "_________________________________________________________________\n",
      "block1_conv1 (Conv2D)        (None, 150, 150, 64)      1792      \n",
      "_________________________________________________________________\n",
      "block1_conv2 (Conv2D)        (None, 150, 150, 64)      36928     \n",
      "_________________________________________________________________\n",
      "block1_pool (MaxPooling2D)   (None, 75, 75, 64)        0         \n",
      "_________________________________________________________________\n",
      "block2_conv1 (Conv2D)        (None, 75, 75, 128)       73856     \n",
      "_________________________________________________________________\n",
      "block2_conv2 (Conv2D)        (None, 75, 75, 128)       147584    \n",
      "_________________________________________________________________\n",
      "block2_pool (MaxPooling2D)   (None, 37, 37, 128)       0         \n",
      "_________________________________________________________________\n",
      "block3_conv1 (Conv2D)        (None, 37, 37, 256)       295168    \n",
      "_________________________________________________________________\n",
      "block3_conv2 (Conv2D)        (None, 37, 37, 256)       590080    \n",
      "_________________________________________________________________\n",
      "block3_conv3 (Conv2D)        (None, 37, 37, 256)       590080    \n",
      "_________________________________________________________________\n",
      "block3_pool (MaxPooling2D)   (None, 18, 18, 256)       0         \n",
      "_________________________________________________________________\n",
      "block4_conv1 (Conv2D)        (None, 18, 18, 512)       1180160   \n",
      "_________________________________________________________________\n",
      "block4_conv2 (Conv2D)        (None, 18, 18, 512)       2359808   \n",
      "_________________________________________________________________\n",
      "block4_conv3 (Conv2D)        (None, 18, 18, 512)       2359808   \n",
      "_________________________________________________________________\n",
      "block4_pool (MaxPooling2D)   (None, 9, 9, 512)         0         \n",
      "_________________________________________________________________\n",
      "block5_conv1 (Conv2D)        (None, 9, 9, 512)         2359808   \n",
      "_________________________________________________________________\n",
      "block5_conv2 (Conv2D)        (None, 9, 9, 512)         2359808   \n",
      "_________________________________________________________________\n",
      "block5_conv3 (Conv2D)        (None, 9, 9, 512)         2359808   \n",
      "_________________________________________________________________\n",
      "block5_pool (MaxPooling2D)   (None, 4, 4, 512)         0         \n",
      "=================================================================\n",
      "Total params: 14,714,688\n",
      "Trainable params: 0\n",
      "Non-trainable params: 14,714,688\n",
      "_________________________________________________________________\n"
     ]
    }
   ],
   "source": [
    "conv_base.summary()"
   ]
  },
  {
   "cell_type": "code",
   "execution_count": 33,
   "metadata": {},
   "outputs": [],
   "source": [
    "conv_base.trainable = True\n",
    "\n",
    "set_trainable = False\n",
    "for layer in conv_base.layers:\n",
    "    if layer.name == 'block5_conv1':\n",
    "        set_trainable = True\n",
    "    if set_trainable:\n",
    "        layer.trainable = True\n",
    "    else:\n",
    "        layer.trainable = False"
   ]
  },
  {
   "cell_type": "code",
   "execution_count": 34,
   "metadata": {
    "scrolled": false
   },
   "outputs": [
    {
     "name": "stdout",
     "output_type": "stream",
     "text": [
      "Epoch 1/100\n",
      " - 18s - loss: 0.2867 - acc: 0.8725 - val_loss: 0.2248 - val_acc: 0.9120\n",
      "Epoch 2/100\n",
      " - 17s - loss: 0.2606 - acc: 0.8905 - val_loss: 0.2133 - val_acc: 0.9140\n",
      "Epoch 3/100\n",
      " - 17s - loss: 0.2293 - acc: 0.9015 - val_loss: 0.2191 - val_acc: 0.9090\n",
      "Epoch 4/100\n",
      " - 17s - loss: 0.2264 - acc: 0.9030 - val_loss: 0.1946 - val_acc: 0.9260\n",
      "Epoch 5/100\n",
      " - 17s - loss: 0.1974 - acc: 0.9240 - val_loss: 0.2105 - val_acc: 0.9180\n",
      "Epoch 6/100\n",
      " - 17s - loss: 0.2000 - acc: 0.9240 - val_loss: 0.2088 - val_acc: 0.9170\n",
      "Epoch 7/100\n",
      " - 17s - loss: 0.1764 - acc: 0.9290 - val_loss: 0.2000 - val_acc: 0.9200\n",
      "Epoch 8/100\n",
      " - 17s - loss: 0.1732 - acc: 0.9270 - val_loss: 0.1928 - val_acc: 0.9260\n",
      "Epoch 9/100\n",
      " - 17s - loss: 0.1635 - acc: 0.9370 - val_loss: 0.2052 - val_acc: 0.9240\n",
      "Epoch 10/100\n",
      " - 17s - loss: 0.1621 - acc: 0.9335 - val_loss: 0.1887 - val_acc: 0.9210\n",
      "Epoch 11/100\n",
      " - 17s - loss: 0.1381 - acc: 0.9415 - val_loss: 0.1888 - val_acc: 0.9270\n",
      "Epoch 12/100\n",
      " - 17s - loss: 0.1358 - acc: 0.9460 - val_loss: 0.2281 - val_acc: 0.9200\n",
      "Epoch 13/100\n",
      " - 17s - loss: 0.1361 - acc: 0.9425 - val_loss: 0.1804 - val_acc: 0.9310\n",
      "Epoch 14/100\n",
      " - 17s - loss: 0.1374 - acc: 0.9395 - val_loss: 0.1788 - val_acc: 0.9350\n",
      "Epoch 15/100\n",
      " - 17s - loss: 0.1184 - acc: 0.9565 - val_loss: 0.1849 - val_acc: 0.9270\n",
      "Epoch 16/100\n",
      " - 17s - loss: 0.1306 - acc: 0.9490 - val_loss: 0.1859 - val_acc: 0.9280\n",
      "Epoch 17/100\n",
      " - 17s - loss: 0.1190 - acc: 0.9520 - val_loss: 0.1926 - val_acc: 0.9300\n",
      "Epoch 18/100\n",
      " - 17s - loss: 0.0992 - acc: 0.9640 - val_loss: 0.1752 - val_acc: 0.9380\n",
      "Epoch 19/100\n",
      " - 17s - loss: 0.1042 - acc: 0.9575 - val_loss: 0.2109 - val_acc: 0.9180\n",
      "Epoch 20/100\n",
      " - 17s - loss: 0.0935 - acc: 0.9595 - val_loss: 0.2503 - val_acc: 0.9100\n",
      "Epoch 21/100\n",
      " - 17s - loss: 0.0908 - acc: 0.9645 - val_loss: 0.1872 - val_acc: 0.9270\n",
      "Epoch 22/100\n",
      " - 17s - loss: 0.0810 - acc: 0.9685 - val_loss: 0.2418 - val_acc: 0.9220\n",
      "Epoch 23/100\n",
      " - 17s - loss: 0.0977 - acc: 0.9655 - val_loss: 0.1829 - val_acc: 0.9350\n",
      "Epoch 24/100\n",
      " - 17s - loss: 0.0668 - acc: 0.9740 - val_loss: 0.1855 - val_acc: 0.9310\n",
      "Epoch 25/100\n",
      " - 17s - loss: 0.0806 - acc: 0.9680 - val_loss: 0.1860 - val_acc: 0.9340\n",
      "Epoch 26/100\n",
      " - 17s - loss: 0.0886 - acc: 0.9650 - val_loss: 0.1789 - val_acc: 0.9350\n",
      "Epoch 27/100\n",
      " - 17s - loss: 0.0707 - acc: 0.9750 - val_loss: 0.1699 - val_acc: 0.9350\n",
      "Epoch 28/100\n",
      " - 17s - loss: 0.0715 - acc: 0.9745 - val_loss: 0.2194 - val_acc: 0.9290\n",
      "Epoch 29/100\n",
      " - 17s - loss: 0.0724 - acc: 0.9730 - val_loss: 0.2399 - val_acc: 0.9230\n",
      "Epoch 30/100\n",
      " - 17s - loss: 0.0711 - acc: 0.9735 - val_loss: 0.2140 - val_acc: 0.9280\n",
      "Epoch 31/100\n",
      " - 17s - loss: 0.0645 - acc: 0.9755 - val_loss: 0.2337 - val_acc: 0.9270\n",
      "Epoch 32/100\n",
      " - 17s - loss: 0.0637 - acc: 0.9755 - val_loss: 0.2334 - val_acc: 0.9280\n",
      "Epoch 33/100\n",
      " - 17s - loss: 0.0620 - acc: 0.9755 - val_loss: 0.1799 - val_acc: 0.9440\n",
      "Epoch 34/100\n",
      " - 17s - loss: 0.0584 - acc: 0.9770 - val_loss: 0.1870 - val_acc: 0.9330\n",
      "Epoch 35/100\n",
      " - 17s - loss: 0.0551 - acc: 0.9795 - val_loss: 0.2149 - val_acc: 0.9370\n",
      "Epoch 36/100\n",
      " - 17s - loss: 0.0557 - acc: 0.9815 - val_loss: 0.3004 - val_acc: 0.9200\n",
      "Epoch 37/100\n",
      " - 17s - loss: 0.0578 - acc: 0.9775 - val_loss: 0.1754 - val_acc: 0.9420\n",
      "Epoch 38/100\n",
      " - 17s - loss: 0.0524 - acc: 0.9795 - val_loss: 0.2296 - val_acc: 0.9280\n",
      "Epoch 39/100\n",
      " - 17s - loss: 0.0525 - acc: 0.9825 - val_loss: 0.2078 - val_acc: 0.9310\n",
      "Epoch 40/100\n",
      " - 17s - loss: 0.0580 - acc: 0.9805 - val_loss: 0.2237 - val_acc: 0.9270\n",
      "Epoch 41/100\n",
      " - 17s - loss: 0.0537 - acc: 0.9780 - val_loss: 0.2215 - val_acc: 0.9310\n",
      "Epoch 42/100\n",
      " - 17s - loss: 0.0519 - acc: 0.9780 - val_loss: 0.2679 - val_acc: 0.9280\n",
      "Epoch 43/100\n",
      " - 17s - loss: 0.0457 - acc: 0.9860 - val_loss: 0.2112 - val_acc: 0.9380\n",
      "Epoch 44/100\n",
      " - 17s - loss: 0.0610 - acc: 0.9780 - val_loss: 0.1846 - val_acc: 0.9430\n",
      "Epoch 45/100\n",
      " - 17s - loss: 0.0482 - acc: 0.9830 - val_loss: 0.1861 - val_acc: 0.9350\n",
      "Epoch 46/100\n",
      " - 17s - loss: 0.0317 - acc: 0.9895 - val_loss: 0.2035 - val_acc: 0.9440\n",
      "Epoch 47/100\n",
      " - 17s - loss: 0.0389 - acc: 0.9845 - val_loss: 0.2700 - val_acc: 0.9260\n",
      "Epoch 48/100\n",
      " - 17s - loss: 0.0275 - acc: 0.9895 - val_loss: 0.3032 - val_acc: 0.9280\n",
      "Epoch 49/100\n",
      " - 17s - loss: 0.0513 - acc: 0.9810 - val_loss: 0.2192 - val_acc: 0.9330\n",
      "Epoch 50/100\n",
      " - 17s - loss: 0.0380 - acc: 0.9880 - val_loss: 0.3634 - val_acc: 0.9130\n",
      "Epoch 51/100\n",
      " - 17s - loss: 0.0340 - acc: 0.9875 - val_loss: 0.2825 - val_acc: 0.9270\n",
      "Epoch 52/100\n",
      " - 17s - loss: 0.0299 - acc: 0.9875 - val_loss: 0.2514 - val_acc: 0.9340\n",
      "Epoch 53/100\n",
      " - 17s - loss: 0.0398 - acc: 0.9875 - val_loss: 0.2753 - val_acc: 0.9330\n",
      "Epoch 54/100\n",
      " - 17s - loss: 0.0295 - acc: 0.9875 - val_loss: 0.2740 - val_acc: 0.9330\n",
      "Epoch 55/100\n",
      " - 17s - loss: 0.0385 - acc: 0.9875 - val_loss: 0.2536 - val_acc: 0.9350\n",
      "Epoch 56/100\n",
      " - 17s - loss: 0.0351 - acc: 0.9870 - val_loss: 0.3843 - val_acc: 0.9130\n",
      "Epoch 57/100\n",
      " - 17s - loss: 0.0351 - acc: 0.9885 - val_loss: 0.2173 - val_acc: 0.9450\n",
      "Epoch 58/100\n",
      " - 17s - loss: 0.0421 - acc: 0.9850 - val_loss: 0.2105 - val_acc: 0.9450\n",
      "Epoch 59/100\n",
      " - 17s - loss: 0.0426 - acc: 0.9885 - val_loss: 0.2507 - val_acc: 0.9310\n",
      "Epoch 60/100\n",
      " - 17s - loss: 0.0316 - acc: 0.9885 - val_loss: 0.2277 - val_acc: 0.9380\n",
      "Epoch 61/100\n",
      " - 17s - loss: 0.0407 - acc: 0.9875 - val_loss: 0.2122 - val_acc: 0.9390\n",
      "Epoch 62/100\n",
      " - 17s - loss: 0.0236 - acc: 0.9930 - val_loss: 0.2325 - val_acc: 0.9400\n",
      "Epoch 63/100\n",
      " - 17s - loss: 0.0446 - acc: 0.9865 - val_loss: 0.3178 - val_acc: 0.9210\n",
      "Epoch 64/100\n",
      " - 17s - loss: 0.0176 - acc: 0.9945 - val_loss: 0.2195 - val_acc: 0.9410\n",
      "Epoch 65/100\n",
      " - 17s - loss: 0.0358 - acc: 0.9880 - val_loss: 0.2391 - val_acc: 0.9420\n",
      "Epoch 66/100\n",
      " - 17s - loss: 0.0287 - acc: 0.9890 - val_loss: 0.2142 - val_acc: 0.9430\n",
      "Epoch 67/100\n",
      " - 17s - loss: 0.0306 - acc: 0.9920 - val_loss: 0.2564 - val_acc: 0.9350\n",
      "Epoch 68/100\n",
      " - 17s - loss: 0.0248 - acc: 0.9920 - val_loss: 0.2371 - val_acc: 0.9460\n",
      "Epoch 69/100\n",
      " - 17s - loss: 0.0305 - acc: 0.9900 - val_loss: 0.4270 - val_acc: 0.9050\n",
      "Epoch 70/100\n",
      " - 17s - loss: 0.0377 - acc: 0.9855 - val_loss: 0.3713 - val_acc: 0.9140\n",
      "Epoch 71/100\n",
      " - 17s - loss: 0.0229 - acc: 0.9920 - val_loss: 0.2522 - val_acc: 0.9330\n",
      "Epoch 72/100\n",
      " - 17s - loss: 0.0271 - acc: 0.9900 - val_loss: 0.4651 - val_acc: 0.9120\n",
      "Epoch 73/100\n",
      " - 17s - loss: 0.0286 - acc: 0.9910 - val_loss: 0.2159 - val_acc: 0.9450\n",
      "Epoch 74/100\n",
      " - 17s - loss: 0.0269 - acc: 0.9885 - val_loss: 0.2225 - val_acc: 0.9470\n",
      "Epoch 75/100\n",
      " - 17s - loss: 0.0229 - acc: 0.9930 - val_loss: 0.2866 - val_acc: 0.9350\n",
      "Epoch 76/100\n",
      " - 17s - loss: 0.0339 - acc: 0.9880 - val_loss: 0.2645 - val_acc: 0.9360\n",
      "Epoch 77/100\n",
      " - 17s - loss: 0.0248 - acc: 0.9935 - val_loss: 0.2509 - val_acc: 0.9370\n",
      "Epoch 78/100\n",
      " - 17s - loss: 0.0243 - acc: 0.9905 - val_loss: 0.2924 - val_acc: 0.9340\n",
      "Epoch 79/100\n",
      " - 17s - loss: 0.0189 - acc: 0.9920 - val_loss: 0.2724 - val_acc: 0.9380\n",
      "Epoch 80/100\n",
      " - 17s - loss: 0.0231 - acc: 0.9905 - val_loss: 0.2329 - val_acc: 0.9420\n",
      "Epoch 81/100\n",
      " - 17s - loss: 0.0238 - acc: 0.9930 - val_loss: 0.2440 - val_acc: 0.9430\n",
      "Epoch 82/100\n",
      " - 17s - loss: 0.0193 - acc: 0.9930 - val_loss: 0.2646 - val_acc: 0.9350\n",
      "Epoch 83/100\n",
      " - 17s - loss: 0.0171 - acc: 0.9930 - val_loss: 0.2408 - val_acc: 0.9420\n",
      "Epoch 84/100\n",
      " - 17s - loss: 0.0193 - acc: 0.9930 - val_loss: 0.2497 - val_acc: 0.9440\n",
      "Epoch 85/100\n",
      " - 17s - loss: 0.0187 - acc: 0.9950 - val_loss: 0.2915 - val_acc: 0.9370\n",
      "Epoch 86/100\n",
      " - 17s - loss: 0.0240 - acc: 0.9925 - val_loss: 0.2693 - val_acc: 0.9400\n",
      "Epoch 87/100\n",
      " - 17s - loss: 0.0224 - acc: 0.9920 - val_loss: 0.3217 - val_acc: 0.9330\n",
      "Epoch 88/100\n",
      " - 17s - loss: 0.0174 - acc: 0.9940 - val_loss: 0.2600 - val_acc: 0.9410\n",
      "Epoch 89/100\n",
      " - 17s - loss: 0.0172 - acc: 0.9945 - val_loss: 0.2992 - val_acc: 0.9400\n",
      "Epoch 90/100\n",
      " - 17s - loss: 0.0184 - acc: 0.9935 - val_loss: 0.2787 - val_acc: 0.9380\n",
      "Epoch 91/100\n",
      " - 17s - loss: 0.0193 - acc: 0.9945 - val_loss: 0.2920 - val_acc: 0.9360\n",
      "Epoch 92/100\n",
      " - 17s - loss: 0.0170 - acc: 0.9950 - val_loss: 0.3267 - val_acc: 0.9340\n",
      "Epoch 93/100\n",
      " - 17s - loss: 0.0171 - acc: 0.9925 - val_loss: 0.2580 - val_acc: 0.9430\n",
      "Epoch 94/100\n",
      " - 17s - loss: 0.0198 - acc: 0.9940 - val_loss: 0.3074 - val_acc: 0.9350\n",
      "Epoch 95/100\n",
      " - 17s - loss: 0.0149 - acc: 0.9950 - val_loss: 0.3009 - val_acc: 0.9320\n",
      "Epoch 96/100\n",
      " - 17s - loss: 0.0144 - acc: 0.9945 - val_loss: 0.4172 - val_acc: 0.9190\n"
     ]
    },
    {
     "name": "stdout",
     "output_type": "stream",
     "text": [
      "Epoch 97/100\n",
      " - 17s - loss: 0.0167 - acc: 0.9925 - val_loss: 0.2953 - val_acc: 0.9370\n",
      "Epoch 98/100\n",
      " - 17s - loss: 0.0162 - acc: 0.9935 - val_loss: 0.2878 - val_acc: 0.9340\n",
      "Epoch 99/100\n",
      " - 17s - loss: 0.0145 - acc: 0.9930 - val_loss: 0.3249 - val_acc: 0.9400\n",
      "Epoch 100/100\n",
      " - 17s - loss: 0.0220 - acc: 0.9915 - val_loss: 0.4674 - val_acc: 0.9200\n"
     ]
    }
   ],
   "source": [
    "model.compile(loss='binary_crossentropy', \n",
    "             optimizer= optimizers.RMSprop(lr=1e-5),\n",
    "             metrics=['acc'])\n",
    "\n",
    "history = model.fit_generator(\n",
    "    train_generator,\n",
    "    steps_per_epoch=100,\n",
    "    epochs=100,\n",
    "    validation_data=validation_generator,\n",
    "    validation_steps=50,\n",
    "    verbose=2)"
   ]
  },
  {
   "cell_type": "code",
   "execution_count": 37,
   "metadata": {},
   "outputs": [
    {
     "data": {
      "image/png": "[encoded data removed]",
      "text/plain": [
       "<matplotlib.figure.Figure at 0x7fa71071e850>"
      ]
     },
     "metadata": {},
     "output_type": "display_data"
    },
    {
     "data": {
      "image/png": "[encoded data removed]",
      "text/plain": [
       "<matplotlib.figure.Figure at 0x7fa7106e3810>"
      ]
     },
     "metadata": {},
     "output_type": "display_data"
    }
   ],
   "source": [
    "import matplotlib.pyplot as plt\n",
    "\n",
    "\n",
    "acc = history.history['acc']\n",
    "val_acc = history.history['val_acc']\n",
    "loss = history.history['loss']\n",
    "val_loss = history.history['val_loss']\n",
    "\n",
    "epochs = range(len(acc))\n",
    "\n",
    "plt.plot(epochs, acc, 'bo', label='Training acc')\n",
    "plt.plot(epochs, val_acc, 'b', label='Validation acc')\n",
    "plt.title('Training and validation accuracy')\n",
    "plt.legend()\n",
    "\n",
    "plt.figure()\n",
    "\n",
    "plt.plot(epochs, loss, 'bo', label='Training loss')\n",
    "plt.plot(epochs, val_loss, 'b', label='Validation loss')\n",
    "plt.title('Training and validation loss')\n",
    "plt.legend()\n",
    "\n",
    "plt.show()"
   ]
  },
  {
   "cell_type": "code",
   "execution_count": 38,
   "metadata": {},
   "outputs": [
    {
     "data": {
      "image/png": "[encoded data removed]",
      "text/plain": [
       "<matplotlib.figure.Figure at 0x7fa7101a07d0>"
      ]
     },
     "metadata": {},
     "output_type": "display_data"
    },
    {
     "data": {
      "image/png": "[encoded data removed]",
      "text/plain": [
       "<matplotlib.figure.Figure at 0x7fa710178050>"
      ]
     },
     "metadata": {},
     "output_type": "display_data"
    }
   ],
   "source": [
    "def smooth_curve(points, factor=0.8):\n",
    "  smoothed_points = []\n",
    "  for point in points:\n",
    "    if smoothed_points:\n",
    "      previous = smoothed_points[-1]\n",
    "      smoothed_points.append(previous * factor + point * (1 - factor))\n",
    "    else:\n",
    "      smoothed_points.append(point)\n",
    "  return smoothed_points\n",
    "\n",
    "plt.plot(epochs,\n",
    "         smooth_curve(acc), 'bo', label='Smoothed training acc')\n",
    "plt.plot(epochs,\n",
    "         smooth_curve(val_acc), 'b', label='Smoothed validation acc')\n",
    "plt.title('Training and validation accuracy')\n",
    "plt.legend()\n",
    "\n",
    "plt.figure()\n",
    "\n",
    "plt.plot(epochs,\n",
    "         smooth_curve(loss), 'bo', label='Smoothed training loss')\n",
    "plt.plot(epochs,\n",
    "         smooth_curve(val_loss), 'b', label='Smoothed validation loss')\n",
    "plt.title('Training and validation loss')\n",
    "plt.legend()\n",
    "\n",
    "plt.show()"
   ]
  },
  {
   "cell_type": "code",
   "execution_count": 39,
   "metadata": {},
   "outputs": [
    {
     "name": "stdout",
     "output_type": "stream",
     "text": [
      "Found 1000 images belonging to 2 classes.\n",
      "('test acc:', 0.9189999949932098)\n"
     ]
    }
   ],
   "source": [
    "test_dir = '/home/geist/Desktop/projects/kaggle/cats_dogs/cats_and_dogs_small/test'\n",
    "\n",
    "test_generator = test_datagen.flow_from_directory(\n",
    "        test_dir,\n",
    "        target_size=(150,150),\n",
    "        batch_size=20,\n",
    "        class_mode='binary')\n",
    "\n",
    "test_loss, test_acc = model.evaluate_generator(test_generator, steps=50)\n",
    "print('test acc:', test_acc)"
   ]
  },
  {
   "cell_type": "code",
   "execution_count": null,
   "metadata": {},
   "outputs": [],
   "source": []
  }
 ],
 "metadata": {
  "kernelspec": {
   "display_name": "Python 2",
   "language": "python",
   "name": "python2"
  },
  "language_info": {
   "codemirror_mode": {
    "name": "ipython",
    "version": 2
   },
   "file_extension": ".py",
   "mimetype": "text/x-python",
   "name": "python",
   "nbconvert_exporter": "python",
   "pygments_lexer": "ipython2",
   "version": "2.7.15rc1"
  }
 },
 "nbformat": 4,
 "nbformat_minor": 2
}
